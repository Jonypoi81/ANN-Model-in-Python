{
 "cells": [
  {
   "cell_type": "code",
   "execution_count": 1,
   "id": "34716f34",
   "metadata": {},
   "outputs": [],
   "source": [
    "import numpy as np\n",
    "import pandas as pd\n",
    "import tensorflow as tf\n",
    "import matplotlib.pyplot as plt\n",
    "from sklearn.model_selection import train_test_split\n",
    "from sklearn.preprocessing import StandardScaler, MinMaxScaler\n",
    "from sklearn.metrics import mean_squared_error, mean_absolute_error\n",
    "from datetime import date, timedelta, datetime\n",
    "get_ipython().run_line_magic('matplotlib', 'inline')\n",
    "import seaborn as sns\n",
    "from keras.models import Sequential, load_model\n",
    "from keras.layers import Dense\n",
    "from keras.layers import Dropout\n",
    "from keras.callbacks import EarlyStopping"
   ]
  },
  {
   "cell_type": "code",
   "execution_count": 2,
   "id": "eba3a23e",
   "metadata": {},
   "outputs": [
    {
     "data": {
      "text/html": [
       "<div>\n",
       "<style scoped>\n",
       "    .dataframe tbody tr th:only-of-type {\n",
       "        vertical-align: middle;\n",
       "    }\n",
       "\n",
       "    .dataframe tbody tr th {\n",
       "        vertical-align: top;\n",
       "    }\n",
       "\n",
       "    .dataframe thead th {\n",
       "        text-align: right;\n",
       "    }\n",
       "</style>\n",
       "<table border=\"1\" class=\"dataframe\">\n",
       "  <thead>\n",
       "    <tr style=\"text-align: right;\">\n",
       "      <th></th>\n",
       "      <th>Date</th>\n",
       "      <th>Open</th>\n",
       "      <th>Close</th>\n",
       "      <th>Covid Case</th>\n",
       "      <th>Covid Death</th>\n",
       "      <th>Volume</th>\n",
       "      <th>Value</th>\n",
       "    </tr>\n",
       "  </thead>\n",
       "  <tbody>\n",
       "    <tr>\n",
       "      <th>2472</th>\n",
       "      <td>2022-01-06</td>\n",
       "      <td>0.865</td>\n",
       "      <td>0.895</td>\n",
       "      <td>3543</td>\n",
       "      <td>19</td>\n",
       "      <td>61.311</td>\n",
       "      <td>35.98</td>\n",
       "    </tr>\n",
       "    <tr>\n",
       "      <th>2473</th>\n",
       "      <td>2022-01-07</td>\n",
       "      <td>0.900</td>\n",
       "      <td>0.890</td>\n",
       "      <td>3381</td>\n",
       "      <td>16</td>\n",
       "      <td>61.311</td>\n",
       "      <td>35.98</td>\n",
       "    </tr>\n",
       "    <tr>\n",
       "      <th>2474</th>\n",
       "      <td>2022-01-10</td>\n",
       "      <td>0.890</td>\n",
       "      <td>0.870</td>\n",
       "      <td>2641</td>\n",
       "      <td>18</td>\n",
       "      <td>61.311</td>\n",
       "      <td>35.98</td>\n",
       "    </tr>\n",
       "    <tr>\n",
       "      <th>2475</th>\n",
       "      <td>2022-01-11</td>\n",
       "      <td>0.865</td>\n",
       "      <td>0.850</td>\n",
       "      <td>3175</td>\n",
       "      <td>27</td>\n",
       "      <td>61.311</td>\n",
       "      <td>35.98</td>\n",
       "    </tr>\n",
       "    <tr>\n",
       "      <th>2476</th>\n",
       "      <td>2022-01-12</td>\n",
       "      <td>0.850</td>\n",
       "      <td>0.880</td>\n",
       "      <td>3198</td>\n",
       "      <td>15</td>\n",
       "      <td>61.311</td>\n",
       "      <td>35.98</td>\n",
       "    </tr>\n",
       "    <tr>\n",
       "      <th>2477</th>\n",
       "      <td>2022-01-13</td>\n",
       "      <td>0.880</td>\n",
       "      <td>0.880</td>\n",
       "      <td>3684</td>\n",
       "      <td>12</td>\n",
       "      <td>61.311</td>\n",
       "      <td>35.98</td>\n",
       "    </tr>\n",
       "    <tr>\n",
       "      <th>2478</th>\n",
       "      <td>2022-01-14</td>\n",
       "      <td>0.880</td>\n",
       "      <td>0.870</td>\n",
       "      <td>3346</td>\n",
       "      <td>12</td>\n",
       "      <td>61.311</td>\n",
       "      <td>35.98</td>\n",
       "    </tr>\n",
       "    <tr>\n",
       "      <th>2479</th>\n",
       "      <td>2022-01-17</td>\n",
       "      <td>0.870</td>\n",
       "      <td>0.885</td>\n",
       "      <td>2342</td>\n",
       "      <td>16</td>\n",
       "      <td>61.311</td>\n",
       "      <td>35.98</td>\n",
       "    </tr>\n",
       "    <tr>\n",
       "      <th>2480</th>\n",
       "      <td>2022-01-19</td>\n",
       "      <td>0.880</td>\n",
       "      <td>0.880</td>\n",
       "      <td>3229</td>\n",
       "      <td>13</td>\n",
       "      <td>61.311</td>\n",
       "      <td>35.98</td>\n",
       "    </tr>\n",
       "    <tr>\n",
       "      <th>2481</th>\n",
       "      <td>2022-01-20</td>\n",
       "      <td>0.885</td>\n",
       "      <td>0.945</td>\n",
       "      <td>3764</td>\n",
       "      <td>22</td>\n",
       "      <td>61.311</td>\n",
       "      <td>35.98</td>\n",
       "    </tr>\n",
       "  </tbody>\n",
       "</table>\n",
       "</div>"
      ],
      "text/plain": [
       "           Date   Open  Close  Covid Case  Covid Death  Volume  Value\n",
       "2472 2022-01-06  0.865  0.895        3543           19  61.311  35.98\n",
       "2473 2022-01-07  0.900  0.890        3381           16  61.311  35.98\n",
       "2474 2022-01-10  0.890  0.870        2641           18  61.311  35.98\n",
       "2475 2022-01-11  0.865  0.850        3175           27  61.311  35.98\n",
       "2476 2022-01-12  0.850  0.880        3198           15  61.311  35.98\n",
       "2477 2022-01-13  0.880  0.880        3684           12  61.311  35.98\n",
       "2478 2022-01-14  0.880  0.870        3346           12  61.311  35.98\n",
       "2479 2022-01-17  0.870  0.885        2342           16  61.311  35.98\n",
       "2480 2022-01-19  0.880  0.880        3229           13  61.311  35.98\n",
       "2481 2022-01-20  0.885  0.945        3764           22  61.311  35.98"
      ]
     },
     "execution_count": 2,
     "metadata": {},
     "output_type": "execute_result"
    }
   ],
   "source": [
    "tf.random.set_seed(7)\n",
    "STORAGE_FOLDER = \"\"\n",
    "data = pd.read_csv(\"ECOW.csv\")\n",
    "\n",
    "data['Date']=pd.to_datetime(data['Date'])\n",
    "data.tail(10)"
   ]
  },
  {
   "cell_type": "code",
   "execution_count": 3,
   "id": "cd6ce7a3",
   "metadata": {},
   "outputs": [
    {
     "data": {
      "text/plain": [
       "(2482, 7)"
      ]
     },
     "execution_count": 3,
     "metadata": {},
     "output_type": "execute_result"
    }
   ],
   "source": [
    "data.shape"
   ]
  },
  {
   "cell_type": "code",
   "execution_count": 4,
   "id": "cdaf1aa6",
   "metadata": {},
   "outputs": [
    {
     "name": "stdout",
     "output_type": "stream",
     "text": [
      "<class 'pandas.core.frame.DataFrame'>\n",
      "RangeIndex: 2482 entries, 0 to 2481\n",
      "Data columns (total 7 columns):\n",
      " #   Column       Non-Null Count  Dtype         \n",
      "---  ------       --------------  -----         \n",
      " 0   Date         2482 non-null   datetime64[ns]\n",
      " 1   Open         2482 non-null   float64       \n",
      " 2   Close        2482 non-null   float64       \n",
      " 3   Covid Case   2482 non-null   int64         \n",
      " 4   Covid Death  2482 non-null   int64         \n",
      " 5   Volume       2482 non-null   float64       \n",
      " 6   Value        2482 non-null   float64       \n",
      "dtypes: datetime64[ns](1), float64(4), int64(2)\n",
      "memory usage: 135.9 KB\n"
     ]
    }
   ],
   "source": [
    "# to print the full summary\n",
    "data.info()"
   ]
  },
  {
   "cell_type": "code",
   "execution_count": 5,
   "id": "41b49e6e",
   "metadata": {},
   "outputs": [
    {
     "data": {
      "text/plain": [
       "Date           0\n",
       "Open           0\n",
       "Close          0\n",
       "Covid Case     0\n",
       "Covid Death    0\n",
       "Volume         0\n",
       "Value          0\n",
       "dtype: int64"
      ]
     },
     "execution_count": 5,
     "metadata": {},
     "output_type": "execute_result"
    }
   ],
   "source": [
    "# knowling number of non-missing values for each variable\n",
    "data.isnull().sum()\n"
   ]
  },
  {
   "cell_type": "code",
   "execution_count": 6,
   "id": "e43cb9a9",
   "metadata": {},
   "outputs": [],
   "source": [
    "data = data.drop(labels=2481, axis=0)"
   ]
  },
  {
   "cell_type": "code",
   "execution_count": 7,
   "id": "68bd60b6",
   "metadata": {},
   "outputs": [
    {
     "data": {
      "text/plain": [
       "(2481, 7)"
      ]
     },
     "execution_count": 7,
     "metadata": {},
     "output_type": "execute_result"
    }
   ],
   "source": [
    "data.shape"
   ]
  },
  {
   "cell_type": "code",
   "execution_count": 8,
   "id": "130f87b5",
   "metadata": {},
   "outputs": [],
   "source": [
    "#Normalized the data, making the properties more consistent, thus can predict more accurately\n",
    "#scaler = StandardScaler()\n",
    "#scaler.fit(X_train)\n",
    "scaler = MinMaxScaler()"
   ]
  },
  {
   "cell_type": "code",
   "execution_count": 9,
   "id": "c95d4c18",
   "metadata": {},
   "outputs": [],
   "source": [
    "train_df = data.sort_values(by=['Date']).copy()"
   ]
  },
  {
   "cell_type": "code",
   "execution_count": 10,
   "id": "65bdb127",
   "metadata": {},
   "outputs": [],
   "source": [
    "# We safe a copy of the dates index, before we need to reset it to numbers\n",
    "date_index = train_df.index"
   ]
  },
  {
   "cell_type": "code",
   "execution_count": 11,
   "id": "8debc6c4",
   "metadata": {},
   "outputs": [],
   "source": [
    "X = data.drop(columns=['Date','Close'], axis=1)\n",
    "Y = data['Close']"
   ]
  },
  {
   "cell_type": "code",
   "execution_count": 12,
   "id": "e47743d2",
   "metadata": {},
   "outputs": [],
   "source": [
    "# Leaves room for miscalculations, thus increases the chances of inaccurate predictions.\n",
    "# Len function is to find the size of dataset.\n",
    "trainsplit=int(len(X)*0.87)"
   ]
  },
  {
   "cell_type": "code",
   "execution_count": 13,
   "id": "a104048c",
   "metadata": {},
   "outputs": [],
   "source": [
    "X_train = X.loc[:trainsplit, : ]\n",
    "Y_train = Y.loc[:trainsplit]\n",
    "X_test = X.loc[trainsplit:, :]\n",
    "Y_test = Y.loc[trainsplit:]"
   ]
  },
  {
   "cell_type": "code",
   "execution_count": 14,
   "id": "dd44d0ac",
   "metadata": {},
   "outputs": [
    {
     "name": "stdout",
     "output_type": "stream",
     "text": [
      "(2481, 5) (2159, 5) (323, 5)\n",
      "(2481,) (2159,) (323,)\n"
     ]
    }
   ],
   "source": [
    "print(X.shape, X_train.shape, X_test.shape)\n",
    "print(Y.shape, Y_train.shape, Y_test.shape)"
   ]
  },
  {
   "cell_type": "code",
   "execution_count": 15,
   "id": "68586233",
   "metadata": {},
   "outputs": [
    {
     "name": "stdout",
     "output_type": "stream",
     "text": [
      "[[0.00456221 0.         0.         1.         0.54135605]\n",
      " [0.00729954 0.         0.         1.         0.54135605]\n",
      " [0.00364977 0.         0.         1.         0.54135605]\n",
      " ...\n",
      " [0.14128076 0.39711191 0.         0.66899329 0.49520154]\n",
      " [0.13906824 0.41516245 0.2        0.66899329 0.49520154]\n",
      " [0.13685572 0.36462094 0.         0.66899329 0.49520154]]\n"
     ]
    }
   ],
   "source": [
    "X_train = scaler.fit_transform(X_train)\n",
    "X_test = scaler.fit_transform(X_test)\n",
    "\n",
    "print(X_train)"
   ]
  },
  {
   "cell_type": "code",
   "execution_count": 16,
   "id": "f23d5fdf",
   "metadata": {},
   "outputs": [],
   "source": [
    "#Build ANN Model\n",
    "classifier = Sequential()"
   ]
  },
  {
   "cell_type": "code",
   "execution_count": 17,
   "id": "3911236c",
   "metadata": {},
   "outputs": [
    {
     "name": "stdout",
     "output_type": "stream",
     "text": [
      "Model: \"sequential\"\n",
      "_________________________________________________________________\n",
      " Layer (type)                Output Shape              Param #   \n",
      "=================================================================\n",
      " dense (Dense)               (None, 16)                96        \n",
      "                                                                 \n",
      " dropout (Dropout)           (None, 16)                0         \n",
      "                                                                 \n",
      " dense_1 (Dense)             (None, 16)                272       \n",
      "                                                                 \n",
      " dense_2 (Dense)             (None, 16)                272       \n",
      "                                                                 \n",
      " dropout_1 (Dropout)         (None, 16)                0         \n",
      "                                                                 \n",
      " dense_3 (Dense)             (None, 1)                 17        \n",
      "                                                                 \n",
      "=================================================================\n",
      "Total params: 657\n",
      "Trainable params: 657\n",
      "Non-trainable params: 0\n",
      "_________________________________________________________________\n"
     ]
    }
   ],
   "source": [
    "classifier.add(Dense(units = 16, activation = 'relu', input_dim=5))\n",
    "classifier.add(Dropout(rate = 0.1))\n",
    "classifier.add(Dense(units = 16, activation = 'relu'))\n",
    "#classifier.add(Dropout(rate = 0.1))\n",
    "#classifier.add(Dense(units = 256, activation = 'relu'))\n",
    "#classifier.add(Dropout(rate = 0.1))\n",
    "classifier.add(Dense(units = 16, activation = 'relu'))\n",
    "classifier.add(Dropout(rate = 0.1))\n",
    "classifier.add(Dense(units = 1))\n",
    "\n",
    "#Compile the model\n",
    "classifier.compile(optimizer = 'adam', loss = 'mean_absolute_error', metrics=['mean_absolute_error'])\n",
    "es = EarlyStopping(monitor='val_loss', mode='min', verbose=2, patience=200)\n",
    "classifier.summary()"
   ]
  },
  {
   "cell_type": "code",
   "execution_count": 18,
   "id": "2675f0b1",
   "metadata": {},
   "outputs": [
    {
     "name": "stdout",
     "output_type": "stream",
     "text": [
      "Epoch 1/150\n",
      "27/27 [==============================] - 1s 6ms/step - loss: 0.7733 - mean_absolute_error: 0.7733 - val_loss: 0.1522 - val_mean_absolute_error: 0.1522\n",
      "Epoch 2/150\n",
      "27/27 [==============================] - 0s 2ms/step - loss: 0.4189 - mean_absolute_error: 0.4189 - val_loss: 0.3722 - val_mean_absolute_error: 0.3722\n",
      "Epoch 3/150\n",
      "27/27 [==============================] - 0s 2ms/step - loss: 0.2670 - mean_absolute_error: 0.2670 - val_loss: 0.2041 - val_mean_absolute_error: 0.2041\n",
      "Epoch 4/150\n",
      "27/27 [==============================] - 0s 2ms/step - loss: 0.2005 - mean_absolute_error: 0.2005 - val_loss: 0.2860 - val_mean_absolute_error: 0.2860\n",
      "Epoch 5/150\n",
      "27/27 [==============================] - 0s 2ms/step - loss: 0.1845 - mean_absolute_error: 0.1845 - val_loss: 0.2763 - val_mean_absolute_error: 0.2763\n",
      "Epoch 6/150\n",
      "27/27 [==============================] - 0s 2ms/step - loss: 0.1710 - mean_absolute_error: 0.1710 - val_loss: 0.3022 - val_mean_absolute_error: 0.3022\n",
      "Epoch 7/150\n",
      "27/27 [==============================] - 0s 2ms/step - loss: 0.1648 - mean_absolute_error: 0.1648 - val_loss: 0.2869 - val_mean_absolute_error: 0.2869\n",
      "Epoch 8/150\n",
      "27/27 [==============================] - 0s 2ms/step - loss: 0.1514 - mean_absolute_error: 0.1514 - val_loss: 0.2742 - val_mean_absolute_error: 0.2742\n",
      "Epoch 9/150\n",
      "27/27 [==============================] - 0s 2ms/step - loss: 0.1499 - mean_absolute_error: 0.1499 - val_loss: 0.2535 - val_mean_absolute_error: 0.2535\n",
      "Epoch 10/150\n",
      "27/27 [==============================] - 0s 2ms/step - loss: 0.1372 - mean_absolute_error: 0.1372 - val_loss: 0.2649 - val_mean_absolute_error: 0.2649\n",
      "Epoch 11/150\n",
      "27/27 [==============================] - 0s 2ms/step - loss: 0.1355 - mean_absolute_error: 0.1355 - val_loss: 0.2463 - val_mean_absolute_error: 0.2463\n",
      "Epoch 12/150\n",
      "27/27 [==============================] - 0s 2ms/step - loss: 0.1315 - mean_absolute_error: 0.1315 - val_loss: 0.2563 - val_mean_absolute_error: 0.2563\n",
      "Epoch 13/150\n",
      "27/27 [==============================] - 0s 2ms/step - loss: 0.1283 - mean_absolute_error: 0.1283 - val_loss: 0.2388 - val_mean_absolute_error: 0.2388\n",
      "Epoch 14/150\n",
      "27/27 [==============================] - 0s 2ms/step - loss: 0.1261 - mean_absolute_error: 0.1261 - val_loss: 0.2560 - val_mean_absolute_error: 0.2560\n",
      "Epoch 15/150\n",
      "27/27 [==============================] - 0s 2ms/step - loss: 0.1251 - mean_absolute_error: 0.1251 - val_loss: 0.2326 - val_mean_absolute_error: 0.2326\n",
      "Epoch 16/150\n",
      "27/27 [==============================] - 0s 2ms/step - loss: 0.1270 - mean_absolute_error: 0.1270 - val_loss: 0.2427 - val_mean_absolute_error: 0.2427\n",
      "Epoch 17/150\n",
      "27/27 [==============================] - 0s 2ms/step - loss: 0.1217 - mean_absolute_error: 0.1217 - val_loss: 0.2474 - val_mean_absolute_error: 0.2474\n",
      "Epoch 18/150\n",
      "27/27 [==============================] - 0s 2ms/step - loss: 0.1146 - mean_absolute_error: 0.1146 - val_loss: 0.2516 - val_mean_absolute_error: 0.2516\n",
      "Epoch 19/150\n",
      "27/27 [==============================] - 0s 2ms/step - loss: 0.1173 - mean_absolute_error: 0.1173 - val_loss: 0.2518 - val_mean_absolute_error: 0.2518\n",
      "Epoch 20/150\n",
      "27/27 [==============================] - 0s 2ms/step - loss: 0.1131 - mean_absolute_error: 0.1131 - val_loss: 0.2512 - val_mean_absolute_error: 0.2512\n",
      "Epoch 21/150\n",
      "27/27 [==============================] - 0s 2ms/step - loss: 0.1125 - mean_absolute_error: 0.1125 - val_loss: 0.2524 - val_mean_absolute_error: 0.2524\n",
      "Epoch 22/150\n",
      "27/27 [==============================] - 0s 2ms/step - loss: 0.1060 - mean_absolute_error: 0.1060 - val_loss: 0.2394 - val_mean_absolute_error: 0.2394\n",
      "Epoch 23/150\n",
      "27/27 [==============================] - 0s 2ms/step - loss: 0.1108 - mean_absolute_error: 0.1108 - val_loss: 0.2295 - val_mean_absolute_error: 0.2295\n",
      "Epoch 24/150\n",
      "27/27 [==============================] - 0s 2ms/step - loss: 0.1036 - mean_absolute_error: 0.1036 - val_loss: 0.2198 - val_mean_absolute_error: 0.2198\n",
      "Epoch 25/150\n",
      "27/27 [==============================] - 0s 2ms/step - loss: 0.1048 - mean_absolute_error: 0.1048 - val_loss: 0.2518 - val_mean_absolute_error: 0.2518\n",
      "Epoch 26/150\n",
      "27/27 [==============================] - 0s 2ms/step - loss: 0.1037 - mean_absolute_error: 0.1037 - val_loss: 0.2191 - val_mean_absolute_error: 0.2191\n",
      "Epoch 27/150\n",
      "27/27 [==============================] - 0s 2ms/step - loss: 0.1010 - mean_absolute_error: 0.1010 - val_loss: 0.2267 - val_mean_absolute_error: 0.2267\n",
      "Epoch 28/150\n",
      "27/27 [==============================] - 0s 2ms/step - loss: 0.0995 - mean_absolute_error: 0.0995 - val_loss: 0.2264 - val_mean_absolute_error: 0.2264\n",
      "Epoch 29/150\n",
      "27/27 [==============================] - 0s 2ms/step - loss: 0.0986 - mean_absolute_error: 0.0986 - val_loss: 0.2421 - val_mean_absolute_error: 0.2421\n",
      "Epoch 30/150\n",
      "27/27 [==============================] - 0s 2ms/step - loss: 0.0962 - mean_absolute_error: 0.0962 - val_loss: 0.2160 - val_mean_absolute_error: 0.2160\n",
      "Epoch 31/150\n",
      "27/27 [==============================] - 0s 2ms/step - loss: 0.0960 - mean_absolute_error: 0.0960 - val_loss: 0.2185 - val_mean_absolute_error: 0.2185\n",
      "Epoch 32/150\n",
      "27/27 [==============================] - 0s 2ms/step - loss: 0.0959 - mean_absolute_error: 0.0959 - val_loss: 0.2225 - val_mean_absolute_error: 0.2225\n",
      "Epoch 33/150\n",
      "27/27 [==============================] - 0s 5ms/step - loss: 0.0965 - mean_absolute_error: 0.0965 - val_loss: 0.1974 - val_mean_absolute_error: 0.1974\n",
      "Epoch 34/150\n",
      "27/27 [==============================] - 0s 2ms/step - loss: 0.0978 - mean_absolute_error: 0.0978 - val_loss: 0.2009 - val_mean_absolute_error: 0.2009\n",
      "Epoch 35/150\n",
      "27/27 [==============================] - 0s 2ms/step - loss: 0.0961 - mean_absolute_error: 0.0961 - val_loss: 0.2203 - val_mean_absolute_error: 0.2203\n",
      "Epoch 36/150\n",
      "27/27 [==============================] - 0s 2ms/step - loss: 0.0932 - mean_absolute_error: 0.0932 - val_loss: 0.2100 - val_mean_absolute_error: 0.2100\n",
      "Epoch 37/150\n",
      "27/27 [==============================] - 0s 2ms/step - loss: 0.0939 - mean_absolute_error: 0.0939 - val_loss: 0.2099 - val_mean_absolute_error: 0.2099\n",
      "Epoch 38/150\n",
      "27/27 [==============================] - 0s 2ms/step - loss: 0.0939 - mean_absolute_error: 0.0939 - val_loss: 0.1975 - val_mean_absolute_error: 0.1975\n",
      "Epoch 39/150\n",
      "27/27 [==============================] - 0s 2ms/step - loss: 0.0921 - mean_absolute_error: 0.0921 - val_loss: 0.1935 - val_mean_absolute_error: 0.1935\n",
      "Epoch 40/150\n",
      "27/27 [==============================] - 0s 2ms/step - loss: 0.0925 - mean_absolute_error: 0.0925 - val_loss: 0.2030 - val_mean_absolute_error: 0.2030\n",
      "Epoch 41/150\n",
      "27/27 [==============================] - 0s 2ms/step - loss: 0.0880 - mean_absolute_error: 0.0880 - val_loss: 0.2118 - val_mean_absolute_error: 0.2118\n",
      "Epoch 42/150\n",
      "27/27 [==============================] - 0s 2ms/step - loss: 0.0907 - mean_absolute_error: 0.0907 - val_loss: 0.2070 - val_mean_absolute_error: 0.2070\n",
      "Epoch 43/150\n",
      "27/27 [==============================] - 0s 2ms/step - loss: 0.0889 - mean_absolute_error: 0.0889 - val_loss: 0.2090 - val_mean_absolute_error: 0.2090\n",
      "Epoch 44/150\n",
      "27/27 [==============================] - 0s 2ms/step - loss: 0.0932 - mean_absolute_error: 0.0932 - val_loss: 0.2075 - val_mean_absolute_error: 0.2075\n",
      "Epoch 45/150\n",
      "27/27 [==============================] - 0s 2ms/step - loss: 0.0910 - mean_absolute_error: 0.0910 - val_loss: 0.2138 - val_mean_absolute_error: 0.2138\n",
      "Epoch 46/150\n",
      "27/27 [==============================] - 0s 2ms/step - loss: 0.0868 - mean_absolute_error: 0.0868 - val_loss: 0.2119 - val_mean_absolute_error: 0.2119\n",
      "Epoch 47/150\n",
      "27/27 [==============================] - 0s 2ms/step - loss: 0.0901 - mean_absolute_error: 0.0901 - val_loss: 0.2157 - val_mean_absolute_error: 0.2157\n",
      "Epoch 48/150\n",
      "27/27 [==============================] - 0s 2ms/step - loss: 0.0905 - mean_absolute_error: 0.0905 - val_loss: 0.2214 - val_mean_absolute_error: 0.2214\n",
      "Epoch 49/150\n",
      "27/27 [==============================] - 0s 2ms/step - loss: 0.0877 - mean_absolute_error: 0.0877 - val_loss: 0.2184 - val_mean_absolute_error: 0.2184\n",
      "Epoch 50/150\n",
      "27/27 [==============================] - 0s 2ms/step - loss: 0.0881 - mean_absolute_error: 0.0881 - val_loss: 0.2146 - val_mean_absolute_error: 0.2146\n",
      "Epoch 51/150\n",
      "27/27 [==============================] - 0s 2ms/step - loss: 0.0837 - mean_absolute_error: 0.0837 - val_loss: 0.2099 - val_mean_absolute_error: 0.2099\n",
      "Epoch 52/150\n",
      "27/27 [==============================] - 0s 2ms/step - loss: 0.0867 - mean_absolute_error: 0.0867 - val_loss: 0.2158 - val_mean_absolute_error: 0.2158\n",
      "Epoch 53/150\n",
      "27/27 [==============================] - 0s 2ms/step - loss: 0.0871 - mean_absolute_error: 0.0871 - val_loss: 0.2031 - val_mean_absolute_error: 0.2031\n",
      "Epoch 54/150\n",
      "27/27 [==============================] - 0s 2ms/step - loss: 0.0854 - mean_absolute_error: 0.0854 - val_loss: 0.2050 - val_mean_absolute_error: 0.2050\n",
      "Epoch 55/150\n",
      "27/27 [==============================] - 0s 2ms/step - loss: 0.0855 - mean_absolute_error: 0.0855 - val_loss: 0.1809 - val_mean_absolute_error: 0.1809\n",
      "Epoch 56/150\n",
      "27/27 [==============================] - 0s 2ms/step - loss: 0.0862 - mean_absolute_error: 0.0862 - val_loss: 0.2029 - val_mean_absolute_error: 0.2029\n",
      "Epoch 57/150\n",
      "27/27 [==============================] - 0s 3ms/step - loss: 0.0860 - mean_absolute_error: 0.0860 - val_loss: 0.2054 - val_mean_absolute_error: 0.2054\n",
      "Epoch 58/150\n",
      "27/27 [==============================] - 0s 3ms/step - loss: 0.0850 - mean_absolute_error: 0.0850 - val_loss: 0.2055 - val_mean_absolute_error: 0.2055\n",
      "Epoch 59/150\n",
      "27/27 [==============================] - 0s 3ms/step - loss: 0.0864 - mean_absolute_error: 0.0864 - val_loss: 0.2161 - val_mean_absolute_error: 0.2161\n",
      "Epoch 60/150\n",
      "27/27 [==============================] - 0s 2ms/step - loss: 0.0855 - mean_absolute_error: 0.0855 - val_loss: 0.2042 - val_mean_absolute_error: 0.2042\n",
      "Epoch 61/150\n",
      "27/27 [==============================] - 0s 2ms/step - loss: 0.0871 - mean_absolute_error: 0.0871 - val_loss: 0.2013 - val_mean_absolute_error: 0.2013\n",
      "Epoch 62/150\n",
      "27/27 [==============================] - 0s 2ms/step - loss: 0.0840 - mean_absolute_error: 0.0840 - val_loss: 0.1956 - val_mean_absolute_error: 0.1956\n",
      "Epoch 63/150\n",
      "27/27 [==============================] - 0s 3ms/step - loss: 0.0843 - mean_absolute_error: 0.0843 - val_loss: 0.1991 - val_mean_absolute_error: 0.1991\n",
      "Epoch 64/150\n",
      "27/27 [==============================] - 0s 3ms/step - loss: 0.0832 - mean_absolute_error: 0.0832 - val_loss: 0.2145 - val_mean_absolute_error: 0.2145\n",
      "Epoch 65/150\n",
      "27/27 [==============================] - 0s 3ms/step - loss: 0.0843 - mean_absolute_error: 0.0843 - val_loss: 0.1977 - val_mean_absolute_error: 0.1977\n",
      "Epoch 66/150\n",
      "27/27 [==============================] - 0s 2ms/step - loss: 0.0840 - mean_absolute_error: 0.0840 - val_loss: 0.2029 - val_mean_absolute_error: 0.2029\n",
      "Epoch 67/150\n",
      "27/27 [==============================] - 0s 2ms/step - loss: 0.0854 - mean_absolute_error: 0.0854 - val_loss: 0.1962 - val_mean_absolute_error: 0.1962\n",
      "Epoch 68/150\n",
      "27/27 [==============================] - 0s 2ms/step - loss: 0.0835 - mean_absolute_error: 0.0835 - val_loss: 0.2017 - val_mean_absolute_error: 0.2017\n",
      "Epoch 69/150\n",
      "27/27 [==============================] - 0s 2ms/step - loss: 0.0828 - mean_absolute_error: 0.0828 - val_loss: 0.2011 - val_mean_absolute_error: 0.2011\n",
      "Epoch 70/150\n",
      "27/27 [==============================] - 0s 2ms/step - loss: 0.0813 - mean_absolute_error: 0.0813 - val_loss: 0.1962 - val_mean_absolute_error: 0.1962\n",
      "Epoch 71/150\n",
      "27/27 [==============================] - 0s 2ms/step - loss: 0.0816 - mean_absolute_error: 0.0816 - val_loss: 0.2047 - val_mean_absolute_error: 0.2047\n",
      "Epoch 72/150\n",
      "27/27 [==============================] - 0s 2ms/step - loss: 0.0826 - mean_absolute_error: 0.0826 - val_loss: 0.2022 - val_mean_absolute_error: 0.2022\n",
      "Epoch 73/150\n",
      "27/27 [==============================] - 0s 2ms/step - loss: 0.0784 - mean_absolute_error: 0.0784 - val_loss: 0.2035 - val_mean_absolute_error: 0.2035\n",
      "Epoch 74/150\n",
      "27/27 [==============================] - 0s 2ms/step - loss: 0.0808 - mean_absolute_error: 0.0808 - val_loss: 0.2011 - val_mean_absolute_error: 0.2011\n",
      "Epoch 75/150\n",
      "27/27 [==============================] - 0s 2ms/step - loss: 0.0808 - mean_absolute_error: 0.0808 - val_loss: 0.1974 - val_mean_absolute_error: 0.1974\n",
      "Epoch 76/150\n",
      "27/27 [==============================] - 0s 2ms/step - loss: 0.0802 - mean_absolute_error: 0.0802 - val_loss: 0.1947 - val_mean_absolute_error: 0.1947\n",
      "Epoch 77/150\n",
      "27/27 [==============================] - 0s 2ms/step - loss: 0.0795 - mean_absolute_error: 0.0795 - val_loss: 0.1973 - val_mean_absolute_error: 0.1973\n",
      "Epoch 78/150\n",
      "27/27 [==============================] - 0s 2ms/step - loss: 0.0838 - mean_absolute_error: 0.0838 - val_loss: 0.1986 - val_mean_absolute_error: 0.1986\n",
      "Epoch 79/150\n",
      "27/27 [==============================] - 0s 2ms/step - loss: 0.0784 - mean_absolute_error: 0.0784 - val_loss: 0.1980 - val_mean_absolute_error: 0.1980\n",
      "Epoch 80/150\n",
      "27/27 [==============================] - 0s 2ms/step - loss: 0.0782 - mean_absolute_error: 0.0782 - val_loss: 0.2038 - val_mean_absolute_error: 0.2038\n",
      "Epoch 81/150\n",
      "27/27 [==============================] - 0s 2ms/step - loss: 0.0788 - mean_absolute_error: 0.0788 - val_loss: 0.1966 - val_mean_absolute_error: 0.1966\n",
      "Epoch 82/150\n",
      "27/27 [==============================] - 0s 2ms/step - loss: 0.0774 - mean_absolute_error: 0.0774 - val_loss: 0.1913 - val_mean_absolute_error: 0.1913\n",
      "Epoch 83/150\n",
      "27/27 [==============================] - 0s 2ms/step - loss: 0.0791 - mean_absolute_error: 0.0791 - val_loss: 0.1787 - val_mean_absolute_error: 0.1787\n",
      "Epoch 84/150\n",
      "27/27 [==============================] - 0s 2ms/step - loss: 0.0806 - mean_absolute_error: 0.0806 - val_loss: 0.1883 - val_mean_absolute_error: 0.1883\n",
      "Epoch 85/150\n",
      "27/27 [==============================] - 0s 2ms/step - loss: 0.0773 - mean_absolute_error: 0.0773 - val_loss: 0.1931 - val_mean_absolute_error: 0.1931\n",
      "Epoch 86/150\n",
      "27/27 [==============================] - 0s 2ms/step - loss: 0.0758 - mean_absolute_error: 0.0758 - val_loss: 0.1922 - val_mean_absolute_error: 0.1922\n",
      "Epoch 87/150\n",
      "27/27 [==============================] - 0s 2ms/step - loss: 0.0774 - mean_absolute_error: 0.0774 - val_loss: 0.1886 - val_mean_absolute_error: 0.1886\n",
      "Epoch 88/150\n",
      "27/27 [==============================] - 0s 2ms/step - loss: 0.0778 - mean_absolute_error: 0.0778 - val_loss: 0.1896 - val_mean_absolute_error: 0.1896\n",
      "Epoch 89/150\n",
      "27/27 [==============================] - 0s 2ms/step - loss: 0.0787 - mean_absolute_error: 0.0787 - val_loss: 0.1916 - val_mean_absolute_error: 0.1916\n",
      "Epoch 90/150\n",
      "27/27 [==============================] - 0s 2ms/step - loss: 0.0741 - mean_absolute_error: 0.0741 - val_loss: 0.1951 - val_mean_absolute_error: 0.1951\n",
      "Epoch 91/150\n",
      "27/27 [==============================] - 0s 2ms/step - loss: 0.0785 - mean_absolute_error: 0.0785 - val_loss: 0.1944 - val_mean_absolute_error: 0.1944\n",
      "Epoch 92/150\n",
      "27/27 [==============================] - 0s 2ms/step - loss: 0.0752 - mean_absolute_error: 0.0752 - val_loss: 0.1858 - val_mean_absolute_error: 0.1858\n",
      "Epoch 93/150\n",
      "27/27 [==============================] - 0s 2ms/step - loss: 0.0755 - mean_absolute_error: 0.0755 - val_loss: 0.1906 - val_mean_absolute_error: 0.1906\n",
      "Epoch 94/150\n",
      "27/27 [==============================] - 0s 2ms/step - loss: 0.0743 - mean_absolute_error: 0.0743 - val_loss: 0.1976 - val_mean_absolute_error: 0.1976\n",
      "Epoch 95/150\n",
      "27/27 [==============================] - 0s 2ms/step - loss: 0.0779 - mean_absolute_error: 0.0779 - val_loss: 0.1856 - val_mean_absolute_error: 0.1856\n",
      "Epoch 96/150\n",
      "27/27 [==============================] - 0s 2ms/step - loss: 0.0745 - mean_absolute_error: 0.0745 - val_loss: 0.1941 - val_mean_absolute_error: 0.1941\n",
      "Epoch 97/150\n",
      "27/27 [==============================] - 0s 2ms/step - loss: 0.0727 - mean_absolute_error: 0.0727 - val_loss: 0.1880 - val_mean_absolute_error: 0.1880\n",
      "Epoch 98/150\n",
      "27/27 [==============================] - 0s 2ms/step - loss: 0.0777 - mean_absolute_error: 0.0777 - val_loss: 0.1870 - val_mean_absolute_error: 0.1870\n",
      "Epoch 99/150\n",
      "27/27 [==============================] - 0s 2ms/step - loss: 0.0736 - mean_absolute_error: 0.0736 - val_loss: 0.1894 - val_mean_absolute_error: 0.1894\n",
      "Epoch 100/150\n",
      "27/27 [==============================] - 0s 2ms/step - loss: 0.0744 - mean_absolute_error: 0.0744 - val_loss: 0.1894 - val_mean_absolute_error: 0.1894\n",
      "Epoch 101/150\n",
      "27/27 [==============================] - 0s 2ms/step - loss: 0.0705 - mean_absolute_error: 0.0705 - val_loss: 0.1912 - val_mean_absolute_error: 0.1912\n",
      "Epoch 102/150\n",
      "27/27 [==============================] - 0s 2ms/step - loss: 0.0701 - mean_absolute_error: 0.0701 - val_loss: 0.1812 - val_mean_absolute_error: 0.1812\n",
      "Epoch 103/150\n",
      "27/27 [==============================] - 0s 2ms/step - loss: 0.0732 - mean_absolute_error: 0.0732 - val_loss: 0.1876 - val_mean_absolute_error: 0.1876\n",
      "Epoch 104/150\n",
      "27/27 [==============================] - 0s 2ms/step - loss: 0.0713 - mean_absolute_error: 0.0713 - val_loss: 0.1808 - val_mean_absolute_error: 0.1808\n",
      "Epoch 105/150\n",
      "27/27 [==============================] - 0s 2ms/step - loss: 0.0723 - mean_absolute_error: 0.0723 - val_loss: 0.1988 - val_mean_absolute_error: 0.1988\n",
      "Epoch 106/150\n",
      "27/27 [==============================] - 0s 2ms/step - loss: 0.0734 - mean_absolute_error: 0.0734 - val_loss: 0.1889 - val_mean_absolute_error: 0.1889\n",
      "Epoch 107/150\n",
      "27/27 [==============================] - 0s 2ms/step - loss: 0.0728 - mean_absolute_error: 0.0728 - val_loss: 0.1963 - val_mean_absolute_error: 0.1963\n",
      "Epoch 108/150\n",
      "27/27 [==============================] - 0s 2ms/step - loss: 0.0708 - mean_absolute_error: 0.0708 - val_loss: 0.1950 - val_mean_absolute_error: 0.1950\n",
      "Epoch 109/150\n",
      "27/27 [==============================] - 0s 2ms/step - loss: 0.0742 - mean_absolute_error: 0.0742 - val_loss: 0.1885 - val_mean_absolute_error: 0.1885\n",
      "Epoch 110/150\n",
      "27/27 [==============================] - 0s 2ms/step - loss: 0.0679 - mean_absolute_error: 0.0679 - val_loss: 0.1908 - val_mean_absolute_error: 0.1908\n",
      "Epoch 111/150\n",
      "27/27 [==============================] - 0s 2ms/step - loss: 0.0708 - mean_absolute_error: 0.0708 - val_loss: 0.1967 - val_mean_absolute_error: 0.1967\n",
      "Epoch 112/150\n",
      "27/27 [==============================] - 0s 2ms/step - loss: 0.0739 - mean_absolute_error: 0.0739 - val_loss: 0.1910 - val_mean_absolute_error: 0.1910\n",
      "Epoch 113/150\n",
      "27/27 [==============================] - 0s 2ms/step - loss: 0.0716 - mean_absolute_error: 0.0716 - val_loss: 0.1921 - val_mean_absolute_error: 0.1921\n",
      "Epoch 114/150\n",
      "27/27 [==============================] - 0s 2ms/step - loss: 0.0698 - mean_absolute_error: 0.0698 - val_loss: 0.1923 - val_mean_absolute_error: 0.1923\n",
      "Epoch 115/150\n",
      "27/27 [==============================] - 0s 2ms/step - loss: 0.0720 - mean_absolute_error: 0.0720 - val_loss: 0.1828 - val_mean_absolute_error: 0.1828\n",
      "Epoch 116/150\n",
      "27/27 [==============================] - 0s 2ms/step - loss: 0.0720 - mean_absolute_error: 0.0720 - val_loss: 0.1885 - val_mean_absolute_error: 0.1885\n",
      "Epoch 117/150\n",
      "27/27 [==============================] - 0s 2ms/step - loss: 0.0716 - mean_absolute_error: 0.0716 - val_loss: 0.1995 - val_mean_absolute_error: 0.1995\n",
      "Epoch 118/150\n",
      "27/27 [==============================] - 0s 2ms/step - loss: 0.0709 - mean_absolute_error: 0.0709 - val_loss: 0.1938 - val_mean_absolute_error: 0.1938\n",
      "Epoch 119/150\n",
      "27/27 [==============================] - 0s 2ms/step - loss: 0.0693 - mean_absolute_error: 0.0693 - val_loss: 0.1954 - val_mean_absolute_error: 0.1954\n",
      "Epoch 120/150\n",
      "27/27 [==============================] - 0s 2ms/step - loss: 0.0725 - mean_absolute_error: 0.0725 - val_loss: 0.2028 - val_mean_absolute_error: 0.2028\n",
      "Epoch 121/150\n",
      "27/27 [==============================] - 0s 2ms/step - loss: 0.0698 - mean_absolute_error: 0.0698 - val_loss: 0.1924 - val_mean_absolute_error: 0.1924\n",
      "Epoch 122/150\n",
      "27/27 [==============================] - 0s 2ms/step - loss: 0.0702 - mean_absolute_error: 0.0702 - val_loss: 0.2013 - val_mean_absolute_error: 0.2013\n",
      "Epoch 123/150\n",
      "27/27 [==============================] - 0s 2ms/step - loss: 0.0672 - mean_absolute_error: 0.0672 - val_loss: 0.1903 - val_mean_absolute_error: 0.1903\n",
      "Epoch 124/150\n",
      "27/27 [==============================] - 0s 2ms/step - loss: 0.0691 - mean_absolute_error: 0.0691 - val_loss: 0.1923 - val_mean_absolute_error: 0.1923\n",
      "Epoch 125/150\n",
      "27/27 [==============================] - 0s 2ms/step - loss: 0.0680 - mean_absolute_error: 0.0680 - val_loss: 0.1863 - val_mean_absolute_error: 0.1863\n",
      "Epoch 126/150\n",
      "27/27 [==============================] - 0s 2ms/step - loss: 0.0673 - mean_absolute_error: 0.0673 - val_loss: 0.1892 - val_mean_absolute_error: 0.1892\n",
      "Epoch 127/150\n",
      "27/27 [==============================] - 0s 2ms/step - loss: 0.0681 - mean_absolute_error: 0.0681 - val_loss: 0.1902 - val_mean_absolute_error: 0.1902\n",
      "Epoch 128/150\n",
      "27/27 [==============================] - 0s 2ms/step - loss: 0.0697 - mean_absolute_error: 0.0697 - val_loss: 0.1996 - val_mean_absolute_error: 0.1996\n",
      "Epoch 129/150\n",
      "27/27 [==============================] - 0s 2ms/step - loss: 0.0694 - mean_absolute_error: 0.0694 - val_loss: 0.1923 - val_mean_absolute_error: 0.1923\n",
      "Epoch 130/150\n",
      "27/27 [==============================] - 0s 2ms/step - loss: 0.0680 - mean_absolute_error: 0.0680 - val_loss: 0.1952 - val_mean_absolute_error: 0.1952\n",
      "Epoch 131/150\n",
      "27/27 [==============================] - 0s 2ms/step - loss: 0.0679 - mean_absolute_error: 0.0679 - val_loss: 0.1976 - val_mean_absolute_error: 0.1976\n",
      "Epoch 132/150\n",
      "27/27 [==============================] - 0s 2ms/step - loss: 0.0645 - mean_absolute_error: 0.0645 - val_loss: 0.1948 - val_mean_absolute_error: 0.1948\n",
      "Epoch 133/150\n",
      "27/27 [==============================] - 0s 2ms/step - loss: 0.0664 - mean_absolute_error: 0.0664 - val_loss: 0.1971 - val_mean_absolute_error: 0.1971\n",
      "Epoch 134/150\n",
      "27/27 [==============================] - 0s 2ms/step - loss: 0.0663 - mean_absolute_error: 0.0663 - val_loss: 0.1983 - val_mean_absolute_error: 0.1983\n",
      "Epoch 135/150\n",
      "27/27 [==============================] - 0s 2ms/step - loss: 0.0693 - mean_absolute_error: 0.0693 - val_loss: 0.2051 - val_mean_absolute_error: 0.2051\n",
      "Epoch 136/150\n",
      "27/27 [==============================] - 0s 2ms/step - loss: 0.0687 - mean_absolute_error: 0.0687 - val_loss: 0.1965 - val_mean_absolute_error: 0.1965\n",
      "Epoch 137/150\n",
      "27/27 [==============================] - 0s 2ms/step - loss: 0.0697 - mean_absolute_error: 0.0697 - val_loss: 0.2115 - val_mean_absolute_error: 0.2115\n",
      "Epoch 138/150\n",
      "27/27 [==============================] - 0s 2ms/step - loss: 0.0681 - mean_absolute_error: 0.0681 - val_loss: 0.2023 - val_mean_absolute_error: 0.2023\n",
      "Epoch 139/150\n",
      "27/27 [==============================] - 0s 2ms/step - loss: 0.0670 - mean_absolute_error: 0.0670 - val_loss: 0.1958 - val_mean_absolute_error: 0.1958\n",
      "Epoch 140/150\n",
      "27/27 [==============================] - 0s 2ms/step - loss: 0.0651 - mean_absolute_error: 0.0651 - val_loss: 0.1986 - val_mean_absolute_error: 0.1986\n",
      "Epoch 141/150\n",
      "27/27 [==============================] - 0s 2ms/step - loss: 0.0688 - mean_absolute_error: 0.0688 - val_loss: 0.2073 - val_mean_absolute_error: 0.2073\n",
      "Epoch 142/150\n",
      "27/27 [==============================] - 0s 2ms/step - loss: 0.0653 - mean_absolute_error: 0.0653 - val_loss: 0.1994 - val_mean_absolute_error: 0.1994\n",
      "Epoch 143/150\n",
      "27/27 [==============================] - 0s 2ms/step - loss: 0.0661 - mean_absolute_error: 0.0661 - val_loss: 0.2056 - val_mean_absolute_error: 0.2056\n",
      "Epoch 144/150\n",
      "27/27 [==============================] - 0s 2ms/step - loss: 0.0651 - mean_absolute_error: 0.0651 - val_loss: 0.1976 - val_mean_absolute_error: 0.1976\n",
      "Epoch 145/150\n",
      "27/27 [==============================] - 0s 2ms/step - loss: 0.0673 - mean_absolute_error: 0.0673 - val_loss: 0.2007 - val_mean_absolute_error: 0.2007\n",
      "Epoch 146/150\n",
      "27/27 [==============================] - 0s 2ms/step - loss: 0.0625 - mean_absolute_error: 0.0625 - val_loss: 0.2037 - val_mean_absolute_error: 0.2037\n",
      "Epoch 147/150\n",
      "27/27 [==============================] - 0s 2ms/step - loss: 0.0651 - mean_absolute_error: 0.0651 - val_loss: 0.2015 - val_mean_absolute_error: 0.2015\n",
      "Epoch 148/150\n",
      "27/27 [==============================] - 0s 2ms/step - loss: 0.0648 - mean_absolute_error: 0.0648 - val_loss: 0.2103 - val_mean_absolute_error: 0.2103\n",
      "Epoch 149/150\n",
      "27/27 [==============================] - 0s 2ms/step - loss: 0.0637 - mean_absolute_error: 0.0637 - val_loss: 0.2042 - val_mean_absolute_error: 0.2042\n",
      "Epoch 150/150\n",
      "27/27 [==============================] - 0s 2ms/step - loss: 0.0648 - mean_absolute_error: 0.0648 - val_loss: 0.2035 - val_mean_absolute_error: 0.2035\n"
     ]
    }
   ],
   "source": [
    "#Train the model\n",
    "history = classifier.fit(X_train,Y_train,epochs=150, batch_size=80, validation_data=(X_test, Y_test), callbacks=[es])"
   ]
  },
  {
   "cell_type": "code",
   "execution_count": 19,
   "id": "b30a35eb",
   "metadata": {},
   "outputs": [
    {
     "name": "stdout",
     "output_type": "stream",
     "text": [
      "11/11 - 0s - loss: 0.2035 - mean_absolute_error: 0.2035 - 24ms/epoch - 2ms/step\n"
     ]
    }
   ],
   "source": [
    "test_loss, test_acc = classifier.evaluate(X_test, Y_test, verbose=2)"
   ]
  },
  {
   "cell_type": "code",
   "execution_count": 20,
   "id": "621b9774",
   "metadata": {},
   "outputs": [
    {
     "data": {
      "text/plain": [
       "[<matplotlib.lines.Line2D at 0x1e1f7744970>]"
      ]
     },
     "execution_count": 20,
     "metadata": {},
     "output_type": "execute_result"
    },
    {
     "data": {
      "image/png": "[encoded data removed]",
      "text/plain": [
       "<Figure size 648x648 with 1 Axes>"
      ]
     },
     "metadata": {
      "needs_background": "light"
     },
     "output_type": "display_data"
    }
   ],
   "source": [
    "plt.figure(figsize=(9,9))\n",
    "plt.plot(history.history['loss'], label='loss')\n",
    "plt.plot(history.history['val_loss'], label='val_loss')"
   ]
  },
  {
   "cell_type": "code",
   "execution_count": 21,
   "id": "72b954b1",
   "metadata": {},
   "outputs": [
    {
     "name": "stderr",
     "output_type": "stream",
     "text": [
      "No handles with labels found to put in legend.\n"
     ]
    },
    {
     "data": {
      "text/plain": [
       "<matplotlib.legend.Legend at 0x1e1f6715bb0>"
      ]
     },
     "execution_count": 21,
     "metadata": {},
     "output_type": "execute_result"
    },
    {
     "data": {
      "image/png": "[encoded data removed]",
      "text/plain": [
       "<Figure size 432x288 with 1 Axes>"
      ]
     },
     "metadata": {
      "needs_background": "light"
     },
     "output_type": "display_data"
    }
   ],
   "source": [
    "plt.xlabel('Epoch')\n",
    "plt.ylabel('Loss')\n",
    "#plt.ylim([0,1.0])\n",
    "plt.legend(loc='lower right')"
   ]
  },
  {
   "cell_type": "code",
   "execution_count": 22,
   "id": "3be54be3",
   "metadata": {},
   "outputs": [],
   "source": [
    "predictions = classifier.predict(X_test)\n",
    "predictions_copies = np.repeat(predictions, X_train.shape[1], axis=-1)\n",
    "predictionsFinal = scaler.inverse_transform(predictions_copies)[:,0]\n",
    "predictions = predictionsFinal[0:]"
   ]
  },
  {
   "cell_type": "code",
   "execution_count": 23,
   "id": "f41f9914",
   "metadata": {},
   "outputs": [],
   "source": [
    "def mean_absolute_percentage_error(Y_test, predictions):\n",
    "  Y_test, predictions = np.array(Y_test), np.array(predictions)\n",
    "  return np.mean(np.abs((Y_test - predictions) / Y_test)) * 100\n",
    "mape_ann=mean_absolute_percentage_error(Y_test, predictions)"
   ]
  },
  {
   "cell_type": "code",
   "execution_count": 24,
   "id": "48dc8c80",
   "metadata": {},
   "outputs": [
    {
     "name": "stdout",
     "output_type": "stream",
     "text": [
      "Test RMSE: 0.328\n",
      "Test MAPE: 47.861%\n",
      "PP: 0.457\n"
     ]
    }
   ],
   "source": [
    "rmse_ann = np.sqrt(mean_squared_error(Y_test, predictions))\n",
    "print('Test RMSE: %.3f' % rmse_ann)\n",
    "mape_ann = mape_ann\n",
    "print('Test MAPE: %.3f' % mape_ann + '%')\n",
    "PP_ann = 1-rmse_ann/Y_train.std()\n",
    "print('PP: %.3f' % PP_ann)"
   ]
  },
  {
   "cell_type": "code",
   "execution_count": 25,
   "id": "820566be",
   "metadata": {},
   "outputs": [],
   "source": [
    "display_start_date = pd.Timestamp('today') - timedelta(days=20)"
   ]
  },
  {
   "cell_type": "code",
   "execution_count": 26,
   "id": "a495014d",
   "metadata": {},
   "outputs": [],
   "source": [
    "# Add the date column\n",
    "data_filtered_sub = data.copy()\n",
    "data_filtered_sub['Date'] = date_index"
   ]
  },
  {
   "cell_type": "code",
   "execution_count": 27,
   "id": "28b48b17",
   "metadata": {},
   "outputs": [],
   "source": [
    "train = data_filtered_sub[:trainsplit]\n",
    "valid = data_filtered_sub[trainsplit:]\n",
    "valid.insert(1, \"Prediction\", predictions.ravel(), True)\n",
    "valid.insert(1, \"Difference\", valid[\"Prediction\"] - valid[\"Close\"], True)"
   ]
  },
  {
   "cell_type": "code",
   "execution_count": 28,
   "id": "de2cce8e",
   "metadata": {},
   "outputs": [
    {
     "data": {
      "text/plain": [
       "<matplotlib.legend.Legend at 0x1e1f7ecbb80>"
      ]
     },
     "execution_count": 28,
     "metadata": {},
     "output_type": "execute_result"
    },
    {
     "data": {
      "image/png": "[encoded data removed]",
      "text/plain": [
       "<Figure size 1584x720 with 1 Axes>"
      ]
     },
     "metadata": {
      "needs_background": "light"
     },
     "output_type": "display_data"
    }
   ],
   "source": [
    "fig, ax1 = plt.subplots(figsize=(22, 10), sharex=True)\n",
    "xt = train['Date']; yt = train[[\"Close\"]]\n",
    "xv = valid['Date']; yv = valid[[\"Close\", \"Prediction\"]]\n",
    "plt.title(\"Predictions vs Actual Values\", fontsize=20)\n",
    "plt.ylabel('Closing Price', fontsize=18)\n",
    "plt.plot(xt, yt, color=\"#039dfc\", linewidth=2.0)\n",
    "plt.plot(xv, yv[\"Prediction\"], color=\"#E91D9E\", linewidth=2.0)\n",
    "plt.plot(xv, yv[\"Close\"], color=\"black\", linewidth=2.0)\n",
    "plt.legend([\"Train\", \"Test Predictions\", \"Actual Values\"], loc=\"upper left\")"
   ]
  },
  {
   "cell_type": "code",
   "execution_count": 29,
   "id": "3e4bd5de",
   "metadata": {},
   "outputs": [],
   "source": [
    "#  Create the bar plot with the differences\n",
    "x = valid['Date']\n",
    "y = valid[\"Difference\"]"
   ]
  },
  {
   "cell_type": "code",
   "execution_count": 30,
   "id": "47ff3246",
   "metadata": {},
   "outputs": [
    {
     "name": "stderr",
     "output_type": "stream",
     "text": [
      "C:\\Users\\JonyPoi\\anaconda3\\lib\\site-packages\\pandas\\core\\indexing.py:1684: SettingWithCopyWarning: \n",
      "A value is trying to be set on a copy of a slice from a DataFrame.\n",
      "Try using .loc[row_indexer,col_indexer] = value instead\n",
      "\n",
      "See the caveats in the documentation: https://pandas.pydata.org/pandas-docs/stable/user_guide/indexing.html#returning-a-view-versus-a-copy\n",
      "  self.obj[key] = infer_fill_value(value)\n",
      "C:\\Users\\JonyPoi\\anaconda3\\lib\\site-packages\\pandas\\core\\indexing.py:1817: SettingWithCopyWarning: \n",
      "A value is trying to be set on a copy of a slice from a DataFrame.\n",
      "Try using .loc[row_indexer,col_indexer] = value instead\n",
      "\n",
      "See the caveats in the documentation: https://pandas.pydata.org/pandas-docs/stable/user_guide/indexing.html#returning-a-view-versus-a-copy\n",
      "  self._setitem_single_column(loc, value, pi)\n"
     ]
    }
   ],
   "source": [
    "# Create custom color range for positive and negative differences\n",
    "valid.loc[y >= 0, 'diff_color'] = \"#2BC97A\"\n",
    "valid.loc[y < 0, 'diff_color'] = \"#C92B2B\""
   ]
  },
  {
   "cell_type": "code",
   "execution_count": 31,
   "id": "a61dd8ce",
   "metadata": {},
   "outputs": [
    {
     "data": {
      "image/png": "[encoded data removed]",
      "text/plain": [
       "<Figure size 432x288 with 1 Axes>"
      ]
     },
     "metadata": {
      "needs_background": "light"
     },
     "output_type": "display_data"
    }
   ],
   "source": [
    "plt.bar(x, y, width=0.8, color=valid['diff_color'])\n",
    "plt.grid()\n",
    "plt.show()"
   ]
  },
  {
   "cell_type": "code",
   "execution_count": 32,
   "id": "1ee8bbd1",
   "metadata": {},
   "outputs": [
    {
     "name": "stdout",
     "output_type": "stream",
     "text": [
      "The predicted close price is 1.3899999856948853\n"
     ]
    },
    {
     "name": "stderr",
     "output_type": "stream",
     "text": [
      "C:\\Users\\JonyPoi\\anaconda3\\lib\\site-packages\\sklearn\\base.py:450: UserWarning: X does not have valid feature names, but MinMaxScaler was fitted with feature names\n",
      "  warnings.warn(\n"
     ]
    }
   ],
   "source": [
    "last_row = X.iloc[-1:]\n",
    "#print(last_row)\n",
    "#input_data = last_row['Open','Close', 'Covid Case', 'Covid Death', 'Volume']\n",
    "input_data_as_numpy_array = np.asarray(last_row)\n",
    "input_data_reshaped = input_data_as_numpy_array.reshape(1,-1)\n",
    "std_data = scaler.transform(input_data_reshaped)\n",
    "prediction = classifier.predict(std_data)\n",
    "#print(prediction)\n",
    "predicted_price = np.round(prediction.ravel()[0], 2)\n",
    "#plus = '+'; minus = ''\n",
    "print(f'The predicted close price is {predicted_price}')"
   ]
  },
  {
   "cell_type": "code",
   "execution_count": null,
   "id": "f30ffd9d",
   "metadata": {},
   "outputs": [],
   "source": []
  }
 ],
 "metadata": {
  "kernelspec": {
   "display_name": "Python 3 (ipykernel)",
   "language": "python",
   "name": "python3"
  },
  "language_info": {
   "codemirror_mode": {
    "name": "ipython",
    "version": 3
   },
   "file_extension": ".py",
   "mimetype": "text/x-python",
   "name": "python",
   "nbconvert_exporter": "python",
   "pygments_lexer": "ipython3",
   "version": "3.9.7"
  }
 },
 "nbformat": 4,
 "nbformat_minor": 5
}
